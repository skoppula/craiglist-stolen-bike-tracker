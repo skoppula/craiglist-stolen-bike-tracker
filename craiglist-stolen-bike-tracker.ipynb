{
 "cells": [
  {
   "cell_type": "code",
   "execution_count": 92,
   "metadata": {
    "collapsed": true
   },
   "outputs": [],
   "source": [
    "from bs4 import BeautifulSoup\n",
    "import urllib\n",
    "import time\n",
    "import random"
   ]
  },
  {
   "cell_type": "code",
   "execution_count": 93,
   "metadata": {
    "collapsed": true
   },
   "outputs": [],
   "source": [
    "matches_path = \"/home/skoppula/matches.txt\"\n",
    "required_keywords = [['bike','bicycle','cruiser']] # atleast one of each pair of words needs to occur to trigger\n",
    "optional_keywords = ['vintage',['2008','2009']]\n",
    "num_opt_keywords_required = 1\n",
    "finds = []"
   ]
  },
  {
   "cell_type": "code",
   "execution_count": 94,
   "metadata": {},
   "outputs": [],
   "source": [
    "tld = \"https://boston.craigslist.org\"\n",
    "r = urllib.urlopen(tld + '/search/bia').read()\n",
    "soup = BeautifulSoup(r)\n",
    "search_result_links = soup.find_all(\"a\", class_=\"result-title hdrlnk\")"
   ]
  },
  {
   "cell_type": "code",
   "execution_count": 96,
   "metadata": {},
   "outputs": [],
   "source": [
    "def check_words_against_filter(all_words):\n",
    "    for required_kw_set in required_keywords:\n",
    "        if isinstance(required_kw_set, basestring):\n",
    "            if required_kw_set not in all_words: return  False\n",
    "        else:\n",
    "            pair_check = any([kw in all_words for kw in required_kw_set])\n",
    "            if not pair_check: return False\n",
    "            \n",
    "    count = 0\n",
    "    for optional_kw_set in optional_keywords:\n",
    "        if isinstance(optional_kw_set, basestring):\n",
    "            if optional_kw_set in all_words:\n",
    "                count += 1\n",
    "        else:\n",
    "            pair_check = any([kw in all_words for kw in optional_kw_set])\n",
    "            if pair_check: count += 1\n",
    "\n",
    "    return count >= num_opt_keywords_required\n",
    "\n",
    "def open_and_check_url(url):\n",
    "    r = urllib.urlopen(url).read()\n",
    "    soup = BeautifulSoup(r)\n",
    "    title_dom_element = soup.find(id=\"titletextonly\")\n",
    "    description_dom_element = soup.find(id=\"postingbody\")\n",
    "    all_words = \"\"\n",
    "    try:\n",
    "        title = str(title_dom_element.get_text()).lower()\n",
    "        description = str(description_dom_element.get_text()).lower().replace(\"qr code link to this post\", \"\")\n",
    "        all_words += title + description\n",
    "    except:\n",
    "        with open(\"matches.txt\", \"a\") as myfile:\n",
    "            myfile.write(\"Could not open \" + url + ' or had zero/no title matches \\n')\n",
    "    # return all_words\n",
    "    return check_words_against_filter(all_words)"
   ]
  },
  {
   "cell_type": "code",
   "execution_count": 88,
   "metadata": {},
   "outputs": [],
   "source": [
    "# testing\n",
    "# all_words = open_and_check_url('https://boston.craigslist.org/nos/bik/6132576092.html')\n",
    "# check_words_against_filter(all_words)"
   ]
  },
  {
   "cell_type": "code",
   "execution_count": 97,
   "metadata": {},
   "outputs": [
    {
     "name": "stdout",
     "output_type": "stream",
     "text": [
      "https://boston.craigslist.org/nos/bik/6132576092.html\n",
      "https://boston.craigslist.org/bmw/bik/6132573598.html\n",
      "https://boston.craigslist.org/gbs/bik/6096416249.html\n",
      "https://boston.craigslist.org/gbs/bik/6132568535.html\n",
      "https://boston.craigslist.org/gbs/bik/6101950695.html\n",
      "https://boston.craigslist.org/gbs/bik/6129035907.html\n",
      "https://boston.craigslist.org/gbs/bik/6101967461.html\n",
      "https://boston.craigslist.org/gbs/bik/6132509051.html\n",
      "https://boston.craigslist.org/gbs/bid/6129963602.html\n",
      "https://boston.craigslist.org/gbs/bid/6129918906.html\n",
      "https://boston.craigslist.org/gbs/bid/6129964911.html\n",
      "https://boston.craigslist.org/gbs/bid/6115482394.html\n",
      "https://boston.craigslist.org/gbs/bik/6132528334.html\n",
      "https://boston.craigslist.org/gbs/bid/6132468194.html\n",
      "https://boston.craigslist.org/gbs/bik/6132536441.html\n",
      "https://boston.craigslist.org/gbs/bid/6132458364.html\n",
      "https://boston.craigslist.org/sob/bik/6115799932.html\n",
      "https://boston.craigslist.org/gbs/bik/6132523705.html\n",
      "https://boston.craigslist.org/gbs/bik/6101377971.html\n",
      "https://boston.craigslist.org/nos/bik/6122456143.html\n",
      "https://boston.craigslist.org/nos/bik/6132516688.html\n",
      "https://boston.craigslist.org/gbs/bik/6132516693.html\n",
      "https://boston.craigslist.org/nos/bik/6117829628.html\n",
      "https://boston.craigslist.org/nwb/bik/6129874467.html\n",
      "https://boston.craigslist.org/gbs/bik/6132501489.html\n",
      "https://boston.craigslist.org/nos/bik/6127499579.html\n",
      "https://boston.craigslist.org/gbs/bik/6132508509.html\n",
      "https://boston.craigslist.org/nos/bik/6117834072.html\n",
      "https://boston.craigslist.org/bmw/bik/6132507856.html\n",
      "https://boston.craigslist.org/gbs/bid/6129916587.html\n",
      "https://boston.craigslist.org/gbs/bid/6129916071.html\n",
      "https://boston.craigslist.org/gbs/bid/6129915617.html\n",
      "https://boston.craigslist.org/gbs/bid/6129915206.html\n",
      "https://boston.craigslist.org/nos/bik/6128377100.html\n",
      "https://boston.craigslist.org/sob/bik/6132464446.html\n",
      "https://boston.craigslist.org/gbs/bik/6106202250.html\n",
      "https://boston.craigslist.org/nwb/bik/6132476826.html\n",
      "https://boston.craigslist.org/gbs/bik/6112328119.html\n",
      "https://boston.craigslist.org/gbs/bik/6132455468.html\n",
      "https://boston.craigslist.org/sob/bik/6105921076.html\n",
      "https://boston.craigslist.org/bmw/bik/6132450341.html\n",
      "https://boston.craigslist.org/sob/bik/6125809894.html\n",
      "https://boston.craigslist.org/sob/bik/6124539269.html\n",
      "https://boston.craigslist.org/nos/bik/6132440823.html\n",
      "https://boston.craigslist.org/bmw/bik/6132397844.html\n",
      "https://boston.craigslist.org/gbs/bik/6132430071.html\n",
      "https://boston.craigslist.org/gbs/bik/6132423079.html\n",
      "https://boston.craigslist.org/gbs/bik/6115374056.html\n",
      "https://boston.craigslist.org/gbs/bik/6110781692.html\n",
      "https://boston.craigslist.org/gbs/bik/6119854270.html\n",
      "https://boston.craigslist.org/bmw/bik/6105174774.html\n",
      "https://boston.craigslist.org/bmw/bik/6091706293.html\n",
      "https://boston.craigslist.org/gbs/bik/6122951537.html\n",
      "https://boston.craigslist.org/gbs/bik/6113799860.html\n",
      "https://boston.craigslist.org/bmw/bik/6092537175.html\n",
      "https://boston.craigslist.org/gbs/bik/6119570515.html\n",
      "https://boston.craigslist.org/gbs/bik/6094756560.html\n",
      "https://boston.craigslist.org/gbs/bik/6114025372.html\n",
      "https://boston.craigslist.org/gbs/bik/6128552640.html\n",
      "https://boston.craigslist.org/gbs/bik/6126038571.html\n",
      "https://boston.craigslist.org/gbs/bik/6091640960.html\n",
      "https://boston.craigslist.org/gbs/bik/6132404499.html\n",
      "https://boston.craigslist.org/nwb/bik/6124776247.html\n",
      "https://boston.craigslist.org/gbs/bik/6099059326.html\n",
      "https://boston.craigslist.org/gbs/bik/6116642218.html\n",
      "https://boston.craigslist.org/gbs/bik/6116648162.html\n",
      "https://boston.craigslist.org/gbs/bik/6110134287.html\n",
      "https://boston.craigslist.org/gbs/bik/6110129719.html\n",
      "https://boston.craigslist.org/gbs/bik/6132400614.html\n",
      "https://boston.craigslist.org/sob/bik/6132382763.html\n",
      "https://boston.craigslist.org/nos/bik/6132399028.html\n",
      "https://boston.craigslist.org/sob/bik/6132398572.html\n",
      "https://boston.craigslist.org/bmw/bik/6124596819.html\n",
      "https://boston.craigslist.org/gbs/bik/6132388971.html\n",
      "https://boston.craigslist.org/gbs/bik/6096804070.html\n",
      "https://boston.craigslist.org/gbs/bik/6122453651.html\n",
      "https://boston.craigslist.org/gbs/bik/6132385662.html\n",
      "https://boston.craigslist.org/nos/bik/6110933330.html\n",
      "https://boston.craigslist.org/bmw/bik/6127535534.html\n",
      "https://boston.craigslist.org/sob/bik/6132381993.html\n",
      "https://boston.craigslist.org/sob/bik/6132381472.html\n",
      "https://boston.craigslist.org/nos/bik/6110935546.html\n",
      "https://boston.craigslist.org/gbs/bik/6125015975.html\n",
      "https://boston.craigslist.org/gbs/bik/6131625672.html\n",
      "https://boston.craigslist.org/gbs/bik/6132365175.html\n",
      "https://boston.craigslist.org/gbs/bik/6109748638.html\n",
      "https://boston.craigslist.org/gbs/bik/6102207058.html\n",
      "https://boston.craigslist.org/gbs/bik/6129240813.html\n",
      "https://boston.craigslist.org/nwb/bik/6132368186.html\n",
      "https://boston.craigslist.org/nwb/bid/6104524869.html\n",
      "https://boston.craigslist.org/sob/bik/6121049490.html\n",
      "https://boston.craigslist.org/bmw/bik/6132366264.html\n",
      "https://boston.craigslist.org/sob/bik/6097569981.html\n",
      "https://boston.craigslist.org/gbs/bik/6128401537.html\n",
      "https://boston.craigslist.org/gbs/bik/6132365084.html\n",
      "https://boston.craigslist.org/gbs/bik/6130590549.html\n",
      "https://boston.craigslist.org/gbs/bik/6132363873.html\n",
      "https://boston.craigslist.org/gbs/bik/6130670817.html\n",
      "https://boston.craigslist.org/gbs/bik/6132361528.html\n",
      "https://boston.craigslist.org/gbs/bik/6099496579.html\n",
      "https://boston.craigslist.org/sob/bik/6117308673.html\n",
      "https://boston.craigslist.org/bmw/bik/6132313369.html\n",
      "https://boston.craigslist.org/sob/bik/6110238137.html\n",
      "https://boston.craigslist.org/nwb/bik/6126834853.html\n",
      "https://boston.craigslist.org/sob/bik/6121225107.html\n",
      "https://boston.craigslist.org/nwb/bik/6089988826.html\n",
      "https://boston.craigslist.org/gbs/bik/6097787451.html\n",
      "https://boston.craigslist.org/nwb/bik/6122429924.html\n",
      "https://boston.craigslist.org/gbs/bik/6093951778.html\n",
      "https://boston.craigslist.org/nos/bik/6109384275.html\n",
      "https://boston.craigslist.org/gbs/bik/6128415815.html\n",
      "https://boston.craigslist.org/sob/bik/6094042670.html\n",
      "https://boston.craigslist.org/gbs/bik/6113551158.html\n",
      "https://boston.craigslist.org/gbs/bik/6112234578.html\n",
      "https://boston.craigslist.org/gbs/bik/6132354443.html\n",
      "https://boston.craigslist.org/gbs/bik/6128246911.html\n",
      "https://boston.craigslist.org/gbs/bid/6116036496.html\n",
      "https://boston.craigslist.org/bmw/bik/6132317401.html\n",
      "https://boston.craigslist.org/gbs/bik/6125580608.html\n",
      "https://boston.craigslist.org/gbs/bik/6112756039.html\n"
     ]
    }
   ],
   "source": [
    "for result_link in search_result_links:\n",
    "    time.sleep(2 + random.random()) # circumvent anti-bot detection/spam rate limiting\n",
    "    url = tld + result_link[\"href\"]\n",
    "    print url\n",
    "    if(open_and_check_url(url)):\n",
    "        finds.append(str(url))"
   ]
  },
  {
   "cell_type": "code",
   "execution_count": 98,
   "metadata": {},
   "outputs": [
    {
     "name": "stdout",
     "output_type": "stream",
     "text": [
      "[u'https://boston.craigslist.org/gbs/bik/6132536441.html', u'https://boston.craigslist.org/nwb/bik/6129874467.html', u'https://boston.craigslist.org/sob/bik/6105921076.html', u'https://boston.craigslist.org/gbs/bik/6132430071.html', u'https://boston.craigslist.org/gbs/bik/6119570515.html', u'https://boston.craigslist.org/gbs/bik/6094756560.html', u'https://boston.craigslist.org/gbs/bik/6099059326.html', u'https://boston.craigslist.org/gbs/bik/6110134287.html', u'https://boston.craigslist.org/sob/bik/6132382763.html', u'https://boston.craigslist.org/gbs/bik/6129240813.html', u'https://boston.craigslist.org/nwb/bid/6104524869.html', u'https://boston.craigslist.org/gbs/bik/6128415815.html', u'https://boston.craigslist.org/gbs/bik/6125580608.html']\n"
     ]
    }
   ],
   "source": [
    "# print finds"
   ]
  },
  {
   "cell_type": "code",
   "execution_count": 99,
   "metadata": {
    "collapsed": true
   },
   "outputs": [],
   "source": [
    "with open(matches_path, \"a\") as myfile:\n",
    "    for url in finds:\n",
    "        myfile.write(url + '\\n')"
   ]
  }
 ],
 "metadata": {
  "kernelspec": {
   "display_name": "Python 2",
   "language": "python",
   "name": "python2"
  },
  "language_info": {
   "codemirror_mode": {
    "name": "ipython",
    "version": 2
   },
   "file_extension": ".py",
   "mimetype": "text/x-python",
   "name": "python",
   "nbconvert_exporter": "python",
   "pygments_lexer": "ipython2",
   "version": "2.7.6"
  }
 },
 "nbformat": 4,
 "nbformat_minor": 2
}
